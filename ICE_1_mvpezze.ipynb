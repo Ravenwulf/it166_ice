{
 "cells": [
  {
   "cell_type": "code",
   "execution_count": 14,
   "id": "c325b7f3",
   "metadata": {},
   "outputs": [
    {
     "name": "stdout",
     "output_type": "stream",
     "text": [
      "Enter an integer or \"done\" to finish: 7\n",
      "Enter an integer or \"done\" to finish: 2\n",
      "Enter an integer or \"done\" to finish: 10\n",
      "Enter an integer or \"done\" to finish: 4\n",
      "Enter an integer or \"done\" to finish: done\n",
      "Largest number: 10\n",
      "Smallest number: 2\n"
     ]
    }
   ],
   "source": [
    "userIn = \"\";\n",
    "userArr = [];\n",
    "while(1):\n",
    "    userIn=input(\"Enter an integer or \\\"done\\\" to finish: \");\n",
    "    if(userIn == \"done\"): break;\n",
    "    userArr.append(int(userIn));\n",
    "##print(str(userArr));\n",
    "\n",
    "min=max=userArr[0];\n",
    "for num in userArr:\n",
    "    if num > max: max=num\n",
    "    if num < min: min=num\n",
    "print(\"Largest number: \" + str(max));\n",
    "print(\"Smallest number: \" + str(min));"
   ]
  },
  {
   "cell_type": "code",
   "execution_count": null,
   "id": "6f43caf0",
   "metadata": {},
   "outputs": [],
   "source": []
  }
 ],
 "metadata": {
  "kernelspec": {
   "display_name": "Python 3",
   "language": "python",
   "name": "python3"
  },
  "language_info": {
   "codemirror_mode": {
    "name": "ipython",
    "version": 3
   },
   "file_extension": ".py",
   "mimetype": "text/x-python",
   "name": "python",
   "nbconvert_exporter": "python",
   "pygments_lexer": "ipython3",
   "version": "3.8.8"
  }
 },
 "nbformat": 4,
 "nbformat_minor": 5
}
