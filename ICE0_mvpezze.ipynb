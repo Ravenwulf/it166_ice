{
 "cells": [
  {
   "cell_type": "code",
   "execution_count": 3,
   "id": "cd5cea04",
   "metadata": {},
   "outputs": [
    {
     "name": "stdout",
     "output_type": "stream",
     "text": [
      "Merlin is the Grand Champion of the Tournament!\n",
      "\n",
      "Merlin is a Sage of Wisdom!\n",
      "Merlin has ascended to Archmage!\n",
      "Gandalf is a Battle Master!\n",
      "Gandalf has ascended to Archmage!\n",
      "Dumbledore is a Sage of Wisdom!\n",
      "Dumbledore has achieved the title of High Sorcerer!\n",
      "The Tournament has witnessed the rise of legendary Archmages!\n"
     ]
    }
   ],
   "source": [
    "# wizard class to make parsing name and scores easier.\n",
    "# also wanted to learn how python classes work so used this as an opportunity to do that\n",
    "class Wizard:\n",
    "    def __init__(self, name, battleScore, wisdomScore):\n",
    "        self.name = name;\n",
    "        self.battleScore = battleScore;\n",
    "        self.wisdomScore = wisdomScore;\n",
    "        self.totalScore = battleScore + wisdomScore;\n",
    "    def calcTotal(self):\n",
    "        return (self.battleScore+self.wisdomScore);\n",
    "        \n",
    "# initialize wizards array\n",
    "wizArr=[Wizard(\"Merlin\",88,95),Wizard(\"Gandalf\",92,85),Wizard(\"Dumbledore\",78,91)];\n",
    "\n",
    "# determine grand champion\n",
    "max=wizArr[0];\n",
    "for wizard in wizArr:\n",
    "    wizard.calcTotal();\n",
    "    if(wizard.totalScore > max.totalScore): max = wizard;\n",
    "print(max.name + \" is the Grand Champion of the Tournament!\\n\");\n",
    "\n",
    "# var for keeping track of bonus condition\n",
    "rank=2;\n",
    "\n",
    "# determine titles using if/else/elif\n",
    "for wizard in wizArr:\n",
    "    if(wizard.battleScore >= 90 and wizard.wisdomScore >= 90): print(wizard.name + \" has unlocked the ancient secrets of magic!\")\n",
    "    elif(wizard.battleScore >= 90): print(wizard.name + \" is a Battle Master!\")\n",
    "    elif(wizard.wisdomScore >= 90): print(wizard.name + \" is a Sage of Wisdom!\")\n",
    "    if(wizard.totalScore >= 170): print(wizard.name + \" has ascended to Archmage!\")\n",
    "    elif(wizard.totalScore >= 150): print(wizard.name + \" has achieved the title of High Sorcerer!\")\n",
    "    else: print(wizard.name + \" remains an Adept.\")\n",
    "    if(rank==2 and wizard.totalScore < 160): rank-=1;\n",
    "    if(rank==1 and wizard.totalScore < 140): rank-=1;\n",
    "\n",
    "if(rank==2): print(\"The Tournament has witnessed the rise of legendary Archmages!\")\n",
    "elif(rank==1): print(\"All wizards have proven their worth in the Ultimate Tournament!\")\n",
    "else: print(\"Not all wizards were able to meet the challenges of the Tournament.\")\n",
    "    "
   ]
  },
  {
   "cell_type": "code",
   "execution_count": null,
   "id": "5a9a2718",
   "metadata": {},
   "outputs": [],
   "source": []
  }
 ],
 "metadata": {
  "kernelspec": {
   "display_name": "Python 3 (ipykernel)",
   "language": "python",
   "name": "python3"
  },
  "language_info": {
   "codemirror_mode": {
    "name": "ipython",
    "version": 3
   },
   "file_extension": ".py",
   "mimetype": "text/x-python",
   "name": "python",
   "nbconvert_exporter": "python",
   "pygments_lexer": "ipython3",
   "version": "3.9.7"
  }
 },
 "nbformat": 4,
 "nbformat_minor": 5
}
