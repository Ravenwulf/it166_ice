{
 "cells": [
  {
   "cell_type": "code",
   "execution_count": 10,
   "id": "b46c50b8",
   "metadata": {
    "scrolled": true
   },
   "outputs": [
    {
     "name": "stdout",
     "output_type": "stream",
     "text": [
      "Enter hours: 35\n",
      "Enter rate: 2.75\n",
      "Pay: 96.25 Overtime\n"
     ]
    }
   ],
   "source": [
    "hrs = input(\"Enter hours: \");\n",
    "rate = input(\"Enter rate: \");\n",
    "pay = float(hrs)*float(rate);\n",
    "over= \" Overtime\" if pay > 70 else \"\";\n",
    "print(\"Pay: \"+str(pay)+over);"
   ]
  }
 ],
 "metadata": {
  "kernelspec": {
   "display_name": "Python 3",
   "language": "python",
   "name": "python3"
  },
  "language_info": {
   "codemirror_mode": {
    "name": "ipython",
    "version": 3
   },
   "file_extension": ".py",
   "mimetype": "text/x-python",
   "name": "python",
   "nbconvert_exporter": "python",
   "pygments_lexer": "ipython3",
   "version": "3.8.8"
  }
 },
 "nbformat": 4,
 "nbformat_minor": 5
}
